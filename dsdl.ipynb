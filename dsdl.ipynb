{
  "nbformat": 4,
  "nbformat_minor": 0,
  "metadata": {
    "colab": {
      "provenance": []
    },
    "kernelspec": {
      "name": "python3",
      "display_name": "Python 3"
    },
    "language_info": {
      "name": "python"
    }
  },
  "cells": [
    {
      "cell_type": "code",
      "execution_count": 3,
      "metadata": {
        "colab": {
          "base_uri": "https://localhost:8080/"
        },
        "id": "8HxB1sMe5pKE",
        "outputId": "88845d94-fd31-4c94-c1d5-3bc369d0bf8c"
      },
      "outputs": [
        {
          "output_type": "stream",
          "name": "stdout",
          "text": [
            "2\n",
            "Prime\n"
          ]
        }
      ],
      "source": [
        "# 1.Prime or not\n",
        "n=int(input())\n",
        "c=0\n",
        "for i in range(2,n):\n",
        "  if(n%i==0):\n",
        "    c=c+1\n",
        "if(c==0):\n",
        "  print(\"Prime\")\n",
        "else:\n",
        "  print(\"Not Prime\")"
      ]
    },
    {
      "cell_type": "code",
      "source": [
        "# 2. Replace vowel with *\n",
        "n=input()\n",
        "output=\"\"\n",
        "for char in n:\n",
        "  if char in 'aeiouAEIOU':\n",
        "     output+='*'\n",
        "  else:\n",
        "     output+=char\n",
        "print(output)"
      ],
      "metadata": {
        "colab": {
          "base_uri": "https://localhost:8080/"
        },
        "id": "jz4oq0pU70TE",
        "outputId": "7b3dcba7-2875-43af-d3a9-63bd9e0fcf8d"
      },
      "execution_count": 4,
      "outputs": [
        {
          "output_type": "stream",
          "name": "stdout",
          "text": [
            "aeiouytr\n",
            "*****ytr\n"
          ]
        }
      ]
    },
    {
      "cell_type": "code",
      "source": [
        "# 3. Check Palindrome\n",
        "n=input()\n",
        "n1=n.upper()\n",
        "n2=n1[::-1]\n",
        "if(n1==n2):\n",
        "  print(\"palindrome\")\n",
        "else:\n",
        "  print(\"not palindrome\")"
      ],
      "metadata": {
        "colab": {
          "base_uri": "https://localhost:8080/"
        },
        "id": "GquWE45Q8VL5",
        "outputId": "706541cb-8e32-4286-acb7-424fb13aee02"
      },
      "execution_count": 8,
      "outputs": [
        {
          "output_type": "stream",
          "name": "stdout",
          "text": [
            "naman\n",
            "palindrome\n"
          ]
        }
      ]
    },
    {
      "cell_type": "code",
      "source": [
        "# 4. Largest and smallest in list\n",
        "n=input().split()\n",
        "maximum=max(n)\n",
        "minimum=min(n)\n",
        "print(maximum)\n",
        "print(minimum)"
      ],
      "metadata": {
        "colab": {
          "base_uri": "https://localhost:8080/"
        },
        "id": "4-Jd78LS8sDi",
        "outputId": "3b6021ef-0884-46e3-992a-eeca7b7d48ff"
      },
      "execution_count": 12,
      "outputs": [
        {
          "output_type": "stream",
          "name": "stdout",
          "text": [
            "1 2 3 4 5 6 7 89 \n",
            "89\n",
            "1\n"
          ]
        }
      ]
    },
    {
      "cell_type": "code",
      "source": [
        "#4.largest and Smallest in tuple\n",
        "t = tuple(map(int,input().split()))\n",
        "maximum=max(t)\n",
        "minimum=min(t)\n",
        "print(maximum)\n",
        "print(minimum)"
      ],
      "metadata": {
        "colab": {
          "base_uri": "https://localhost:8080/"
        },
        "id": "vGgIGZVx9Vv6",
        "outputId": "7ee01165-3af4-42d6-e32f-74f1a9d08472"
      },
      "execution_count": 13,
      "outputs": [
        {
          "output_type": "stream",
          "name": "stdout",
          "text": [
            "1 2 3 4 5 \n",
            "5\n",
            "1\n"
          ]
        }
      ]
    },
    {
      "cell_type": "code",
      "source": [
        "# 5.# Dictionary to store student records\n",
        "student_records = {\n",
        "    1: {\"admission_number\": 1001, \"roll_number\": \"44\", \"name\": \"John\", \"percentage\": 85},\n",
        "    2: {\"admission_number\": 1002, \"roll_number\": \"55\", \"name\": \"Rohan\", \"percentage\": 92.8},\n",
        "    3: {\"admission_number\": 1003, \"roll_number\": \"66\", \"name\": \"Ayush\", \"percentage\": 95.3},\n",
        "    4: {\"admission_number\": 1004, \"roll_number\": \"77\", \"name\": \"Prachi\", \"percentage\": 89.9},\n",
        "\n",
        "}\n",
        "n= int(input())\n",
        "student = student_records.get(n)\n",
        "if student:\n",
        "    print(\"Student Details:\")\n",
        "    print(\"Admission Number:\", student.get(\"admission_number\"))\n",
        "    print(\"Roll Number:\", student.get(\"roll_number\"))\n",
        "    print(\"Name:\", student.get(\"name\"))\n",
        "    print(\"Percentage:\", student.get(\"percentage\"))\n",
        "else:\n",
        "    print(\"Student with admission number\",n, \"not found.\")"
      ],
      "metadata": {
        "id": "MvaxYHrV9hpg"
      },
      "execution_count": null,
      "outputs": []
    },
    {
      "cell_type": "code",
      "source": [
        "#6.square of a no.\n",
        "n=int(input())\n",
        "print(n*n)"
      ],
      "metadata": {
        "id": "4W4Grosu-Kgg"
      },
      "execution_count": null,
      "outputs": []
    },
    {
      "cell_type": "code",
      "source": [
        "# 6.log\n",
        "import math\n",
        "n=int(input())\n",
        "result = math.log(n)\n",
        "print(result)\n"
      ],
      "metadata": {
        "id": "FMSh_7tH-PhW"
      },
      "execution_count": null,
      "outputs": []
    },
    {
      "cell_type": "code",
      "source": [
        "#6.quad of a no.\n",
        "n=int(input())\n",
        "m= n**2\n",
        "print(m)"
      ],
      "metadata": {
        "colab": {
          "base_uri": "https://localhost:8080/"
        },
        "id": "QHbDqtwpp8us",
        "outputId": "a6324270-4a2a-4ec9-b4af-aff87f1556ae"
      },
      "execution_count": 3,
      "outputs": [
        {
          "output_type": "stream",
          "name": "stdout",
          "text": [
            "11\n",
            "121\n"
          ]
        }
      ]
    },
    {
      "cell_type": "code",
      "source": [
        "#7.menu driven airthmetic operations\n",
        "n1=int(input())\n",
        "n2=int(input())\n",
        "print(\"Press a for Addition\")\n",
        "print(\"Press s for Subtraction\")\n",
        "print(\"Press m for Multiplication\")\n",
        "print(\"Press d for Divison\")\n",
        "choice=(input())\n",
        "if(choice=='a'):\n",
        "  print(n1+n2)\n",
        "elif(choice=='s'):\n",
        "  print(n1-n2)\n",
        "elif(choice=='m'):\n",
        "  print(n1*n2)\n",
        "elif(choice=='d'):\n",
        "  print(n1/n2)\n",
        "else:\n",
        "  print(\"Not a right choice\")"
      ],
      "metadata": {
        "colab": {
          "base_uri": "https://localhost:8080/"
        },
        "id": "8FKNGGTiqdgG",
        "outputId": "9fb99a5d-04a8-4ce3-baff-902202538aeb"
      },
      "execution_count": 5,
      "outputs": [
        {
          "output_type": "stream",
          "name": "stdout",
          "text": [
            "5\n",
            "6\n",
            "Press a for Addition\n",
            "Press s for Subtraction\n",
            "Press m for Multiplication\n",
            "Press d for Divison\n",
            "a\n",
            "11\n"
          ]
        }
      ]
    },
    {
      "cell_type": "code",
      "source": [
        "#8.fibo\n",
        "n=int(input())\n",
        "a=0\n",
        "b=1\n",
        "count=0\n",
        "if n<=0:\n",
        "    print(\"not applicable\")\n",
        "elif n==1:\n",
        "    print(a)\n",
        "else:\n",
        "    while(count<n):\n",
        "        print(a, end=\" \")\n",
        "        c=a+b\n",
        "        a=b\n",
        "        b=c\n",
        "        count=count+1"
      ],
      "metadata": {
        "id": "rGfroXO8rNzZ"
      },
      "execution_count": null,
      "outputs": []
    },
    {
      "cell_type": "code",
      "source": [
        "#9.\n",
        "def factorial(n):\n",
        "    if((n==0) or (n==1)):\n",
        "        return 1\n",
        "    else:\n",
        "        return n * factorial(n - 1)\n",
        "\n",
        "def list_sum(numbers):\n",
        "    return sum(numbers)\n",
        "\n",
        "print(\"Enter 1 for factorial\")\n",
        "print(\"Enter 2 for sum for list elements\")\n",
        "choice=int(input())\n",
        "if(choice==1):\n",
        "  n=int(input())\n",
        "  print(fact(n))\n",
        "elif(choice==2):\n",
        "  a=list(map(int,input().split()))\n",
        "  print(list_sum(a))\n",
        "else:\n",
        "  print(\"wrong choice\")"
      ],
      "metadata": {
        "id": "olkSAP06rb6X"
      },
      "execution_count": null,
      "outputs": []
    },
    {
      "cell_type": "code",
      "source": [
        "#10.\n",
        "list=[2,1,3,4,5,6,7]\n",
        "sum=0\n",
        "for i in list:\n",
        "  if i%2==0:\n",
        "    sum+=(i*10)\n",
        "print(sum)"
      ],
      "metadata": {
        "id": "ZI764vhPsG6E"
      },
      "execution_count": null,
      "outputs": []
    },
    {
      "cell_type": "code",
      "source": [
        "#11.\n",
        "l=[\"hiiiii\",\"helloo\",\"jaya\",\"JAYA\",\"RAM\",\"END\",\"AYUHEA\"]\n",
        "for i in l:\n",
        "  if(i[-1]==\"A\"):\n",
        "    print(i)"
      ],
      "metadata": {
        "id": "iP5Ol2rHsUIA"
      },
      "execution_count": null,
      "outputs": []
    },
    {
      "cell_type": "code",
      "source": [
        "#12.read a text file line by line and display each word separated by #\n",
        "file = open(\"python.txt\", \"r\")\n",
        "\n",
        "for line in file:\n",
        "    words = line.split()\n",
        "    new_line = '#'.join(words)\n",
        "    print(new_line)\n",
        "\n",
        "file.close()"
      ],
      "metadata": {
        "colab": {
          "base_uri": "https://localhost:8080/",
          "height": 245
        },
        "id": "lSdC8t2Ssank",
        "outputId": "46e31c54-9437-4e8d-91ad-8a9f477025a4"
      },
      "execution_count": 6,
      "outputs": [
        {
          "output_type": "error",
          "ename": "FileNotFoundError",
          "evalue": "ignored",
          "traceback": [
            "\u001b[0;31m---------------------------------------------------------------------------\u001b[0m",
            "\u001b[0;31mFileNotFoundError\u001b[0m                         Traceback (most recent call last)",
            "\u001b[0;32m<ipython-input-6-de0a21dfd987>\u001b[0m in \u001b[0;36m<cell line: 2>\u001b[0;34m()\u001b[0m\n\u001b[1;32m      1\u001b[0m \u001b[0;31m#12.read a text file line by line and display each word separated by #\u001b[0m\u001b[0;34m\u001b[0m\u001b[0;34m\u001b[0m\u001b[0m\n\u001b[0;32m----> 2\u001b[0;31m \u001b[0mfile\u001b[0m \u001b[0;34m=\u001b[0m \u001b[0mopen\u001b[0m\u001b[0;34m(\u001b[0m\u001b[0;34m\"python.txt\"\u001b[0m\u001b[0;34m,\u001b[0m \u001b[0;34m\"r\"\u001b[0m\u001b[0;34m)\u001b[0m\u001b[0;34m\u001b[0m\u001b[0;34m\u001b[0m\u001b[0m\n\u001b[0m\u001b[1;32m      3\u001b[0m \u001b[0;34m\u001b[0m\u001b[0m\n\u001b[1;32m      4\u001b[0m \u001b[0;32mfor\u001b[0m \u001b[0mline\u001b[0m \u001b[0;32min\u001b[0m \u001b[0mfile\u001b[0m\u001b[0;34m:\u001b[0m\u001b[0;34m\u001b[0m\u001b[0;34m\u001b[0m\u001b[0m\n\u001b[1;32m      5\u001b[0m     \u001b[0mwords\u001b[0m \u001b[0;34m=\u001b[0m \u001b[0mline\u001b[0m\u001b[0;34m.\u001b[0m\u001b[0msplit\u001b[0m\u001b[0;34m(\u001b[0m\u001b[0;34m)\u001b[0m\u001b[0;34m\u001b[0m\u001b[0;34m\u001b[0m\u001b[0m\n",
            "\u001b[0;31mFileNotFoundError\u001b[0m: [Errno 2] No such file or directory: 'python.txt'"
          ]
        }
      ]
    },
    {
      "cell_type": "code",
      "source": [
        "#13 read a text file and display number of vowels\n",
        "total_vowels = 0\n",
        "total_constants = 0\n",
        "total_uppercase = 0\n",
        "total_lowercase = 0\n",
        "\n",
        "file = open(\"python.txt\", \"r\")\n",
        "\n",
        "for line in file:\n",
        "    words = line.split()\n",
        "    for word in words:\n",
        "        vowels = sum(1 for char in word if char.lower() in ['a', 'e', 'i', 'o', 'u'])\n",
        "        uppercase = sum(1 for char in word if char.isupper())\n",
        "        lowercase = sum(1 for char in word if char.islower())\n",
        "        constants = sum(1 for char in word if not char.isalpha())\n",
        "\n",
        "        total_vowels += vowels\n",
        "        total_constants += constants\n",
        "        total_uppercase += uppercase\n",
        "        total_lowercase += lowercase\n",
        "\n",
        "file.close()\n",
        "\n",
        "print(\"Number of vowels: \", total_vowels)\n",
        "print(\"Number of constants: \", total_constants)\n",
        "print(\"Number of uppercase letters: \", total_uppercase)\n",
        "print(\"Number of lowercase letters: \", total_lowercase)"
      ],
      "metadata": {
        "id": "7FPksMuGsrhe"
      },
      "execution_count": null,
      "outputs": []
    },
    {
      "cell_type": "code",
      "source": [
        "#14 remove all the lines that contains the character 'a' in a file and write it to another file and show all copied data\n",
        "with open(\"python.txt\", \"r\") as file:\n",
        "    lines = file.readlines()\n",
        "\n",
        "with open(\"newfile.txt\", \"w\") as newfile:\n",
        "    for line in lines:\n",
        "        if 'a' not in line:\n",
        "            newfile.write(line)\n",
        "\n",
        "with open(\"newfile.txt\", \"r\") as newfile:\n",
        "    lines = newfile.readlines()\n",
        "    for line in lines:\n",
        "        print(line.strip())"
      ],
      "metadata": {
        "id": "ALcnbkQhsylb"
      },
      "execution_count": null,
      "outputs": []
    },
    {
      "cell_type": "code",
      "source": [
        "#15. WAP to count the words \"to\" and \"the\" present in the file\n",
        "count = {'to': 0, 'the': 0}\n",
        "words = ['to', 'the']\n",
        "\n",
        "with open(\"python.txt\", \"r\") as file:\n",
        "    lines = file.readlines()\n",
        "\n",
        "for line in lines:\n",
        "    words1 = line.lower().split()\n",
        "    for word in words:\n",
        "        count[word] += words1.count(word)\n",
        "\n",
        "print(f\"to appears {count['to']} times.\")\n",
        "print(f\"the appears {count['the']} times.\")"
      ],
      "metadata": {
        "id": "CUZo3RN_s3MV"
      },
      "execution_count": null,
      "outputs": []
    },
    {
      "cell_type": "code",
      "source": [
        "#17 WAP to count occurence of each word in a given file\n",
        "file_name = 'python.txt'\n",
        "count = {}\n",
        "\n",
        "with open(file_name, 'r') as file:\n",
        "    words = file.read().split()\n",
        "\n",
        "for word in words:\n",
        "    word = word.lower()\n",
        "    if word in count:\n",
        "        count[word] += 1\n",
        "    else:\n",
        "        count[word] = 1\n",
        "\n",
        "print(count)"
      ],
      "metadata": {
        "id": "KvrE23AEs5qF"
      },
      "execution_count": null,
      "outputs": []
    },
    {
      "cell_type": "code",
      "source": [
        "#18.WAP to count number of words in a given file\n",
        "file_name = 'python.txt'\n",
        "\n",
        "with open(file_name, 'r') as file:\n",
        "    words = file.read().split()\n",
        "\n",
        "count = len(words)\n",
        "\n",
        "print(f'total no. of words are: {count}')"
      ],
      "metadata": {
        "id": "QAHrs3Lktf9C"
      },
      "execution_count": null,
      "outputs": []
    },
    {
      "cell_type": "code",
      "source": [
        "#24 random no. generator\n",
        "import random\n",
        "result = random.randint(1,6)\n",
        "print(result)"
      ],
      "metadata": {
        "colab": {
          "base_uri": "https://localhost:8080/"
        },
        "id": "yC-1RPW6tk70",
        "outputId": "36f42917-7af2-4c6d-97f5-e4a899dcdebc"
      },
      "execution_count": 9,
      "outputs": [
        {
          "output_type": "stream",
          "name": "stdout",
          "text": [
            "5\n"
          ]
        }
      ]
    },
    {
      "cell_type": "markdown",
      "source": [
        "Pdf Questions\n"
      ],
      "metadata": {
        "id": "Ct3cKstLt7Vc"
      }
    },
    {
      "cell_type": "code",
      "source": [
        "#1 WAP to convert long seconds in hour....\n",
        "n=int(input())\n",
        "hours=n//3600\n",
        "minutes=(n//60)%60\n",
        "seconds=n%60\n",
        "print(\"{} Hours {} Minutes {} Seconds\".format(hours,minutes,seconds))"
      ],
      "metadata": {
        "id": "HtRlRLQut-v8"
      },
      "execution_count": null,
      "outputs": []
    },
    {
      "cell_type": "code",
      "source": [
        "#2 \"Autulya\".....\n",
        "str=input()\n",
        "print(str[0])\n",
        "print(str[1:3])\n",
        "print(str[4:])"
      ],
      "metadata": {
        "colab": {
          "base_uri": "https://localhost:8080/",
          "height": 390
        },
        "id": "Lg91qVwLuFDz",
        "outputId": "ed0beef2-097e-4657-fe4f-c65c928617c4"
      },
      "execution_count": 11,
      "outputs": [
        {
          "output_type": "error",
          "ename": "KeyboardInterrupt",
          "evalue": "ignored",
          "traceback": [
            "\u001b[0;31m---------------------------------------------------------------------------\u001b[0m",
            "\u001b[0;31mKeyboardInterrupt\u001b[0m                         Traceback (most recent call last)",
            "\u001b[0;32m<ipython-input-11-8b3bd0a2d033>\u001b[0m in \u001b[0;36m<cell line: 2>\u001b[0;34m()\u001b[0m\n\u001b[1;32m      1\u001b[0m \u001b[0;31m#2 \"Autulya\".....\u001b[0m\u001b[0;34m\u001b[0m\u001b[0;34m\u001b[0m\u001b[0m\n\u001b[0;32m----> 2\u001b[0;31m \u001b[0mstr\u001b[0m\u001b[0;34m=\u001b[0m\u001b[0minput\u001b[0m\u001b[0;34m(\u001b[0m\u001b[0;34m)\u001b[0m\u001b[0;34m\u001b[0m\u001b[0;34m\u001b[0m\u001b[0m\n\u001b[0m\u001b[1;32m      3\u001b[0m \u001b[0mprint\u001b[0m\u001b[0;34m(\u001b[0m\u001b[0mstr\u001b[0m\u001b[0;34m[\u001b[0m\u001b[0;36m0\u001b[0m\u001b[0;34m]\u001b[0m\u001b[0;34m)\u001b[0m\u001b[0;34m\u001b[0m\u001b[0;34m\u001b[0m\u001b[0m\n\u001b[1;32m      4\u001b[0m \u001b[0mprint\u001b[0m\u001b[0;34m(\u001b[0m\u001b[0mstr\u001b[0m\u001b[0;34m[\u001b[0m\u001b[0;36m1\u001b[0m\u001b[0;34m:\u001b[0m\u001b[0;36m3\u001b[0m\u001b[0;34m]\u001b[0m\u001b[0;34m)\u001b[0m\u001b[0;34m\u001b[0m\u001b[0;34m\u001b[0m\u001b[0m\n\u001b[1;32m      5\u001b[0m \u001b[0mprint\u001b[0m\u001b[0;34m(\u001b[0m\u001b[0mstr\u001b[0m\u001b[0;34m[\u001b[0m\u001b[0;36m4\u001b[0m\u001b[0;34m:\u001b[0m\u001b[0;34m]\u001b[0m\u001b[0;34m)\u001b[0m\u001b[0;34m\u001b[0m\u001b[0;34m\u001b[0m\u001b[0m\n",
            "\u001b[0;32m/usr/local/lib/python3.10/dist-packages/ipykernel/kernelbase.py\u001b[0m in \u001b[0;36mraw_input\u001b[0;34m(self, prompt)\u001b[0m\n\u001b[1;32m    849\u001b[0m                 \u001b[0;34m\"raw_input was called, but this frontend does not support input requests.\"\u001b[0m\u001b[0;34m\u001b[0m\u001b[0;34m\u001b[0m\u001b[0m\n\u001b[1;32m    850\u001b[0m             )\n\u001b[0;32m--> 851\u001b[0;31m         return self._input_request(str(prompt),\n\u001b[0m\u001b[1;32m    852\u001b[0m             \u001b[0mself\u001b[0m\u001b[0;34m.\u001b[0m\u001b[0m_parent_ident\u001b[0m\u001b[0;34m,\u001b[0m\u001b[0;34m\u001b[0m\u001b[0;34m\u001b[0m\u001b[0m\n\u001b[1;32m    853\u001b[0m             \u001b[0mself\u001b[0m\u001b[0;34m.\u001b[0m\u001b[0m_parent_header\u001b[0m\u001b[0;34m,\u001b[0m\u001b[0;34m\u001b[0m\u001b[0;34m\u001b[0m\u001b[0m\n",
            "\u001b[0;32m/usr/local/lib/python3.10/dist-packages/ipykernel/kernelbase.py\u001b[0m in \u001b[0;36m_input_request\u001b[0;34m(self, prompt, ident, parent, password)\u001b[0m\n\u001b[1;32m    893\u001b[0m             \u001b[0;32mexcept\u001b[0m \u001b[0mKeyboardInterrupt\u001b[0m\u001b[0;34m:\u001b[0m\u001b[0;34m\u001b[0m\u001b[0;34m\u001b[0m\u001b[0m\n\u001b[1;32m    894\u001b[0m                 \u001b[0;31m# re-raise KeyboardInterrupt, to truncate traceback\u001b[0m\u001b[0;34m\u001b[0m\u001b[0;34m\u001b[0m\u001b[0m\n\u001b[0;32m--> 895\u001b[0;31m                 \u001b[0;32mraise\u001b[0m \u001b[0mKeyboardInterrupt\u001b[0m\u001b[0;34m(\u001b[0m\u001b[0;34m\"Interrupted by user\"\u001b[0m\u001b[0;34m)\u001b[0m \u001b[0;32mfrom\u001b[0m \u001b[0;32mNone\u001b[0m\u001b[0;34m\u001b[0m\u001b[0;34m\u001b[0m\u001b[0m\n\u001b[0m\u001b[1;32m    896\u001b[0m             \u001b[0;32mexcept\u001b[0m \u001b[0mException\u001b[0m \u001b[0;32mas\u001b[0m \u001b[0me\u001b[0m\u001b[0;34m:\u001b[0m\u001b[0;34m\u001b[0m\u001b[0;34m\u001b[0m\u001b[0m\n\u001b[1;32m    897\u001b[0m                 \u001b[0mself\u001b[0m\u001b[0;34m.\u001b[0m\u001b[0mlog\u001b[0m\u001b[0;34m.\u001b[0m\u001b[0mwarning\u001b[0m\u001b[0;34m(\u001b[0m\u001b[0;34m\"Invalid Message:\"\u001b[0m\u001b[0;34m,\u001b[0m \u001b[0mexc_info\u001b[0m\u001b[0;34m=\u001b[0m\u001b[0;32mTrue\u001b[0m\u001b[0;34m)\u001b[0m\u001b[0;34m\u001b[0m\u001b[0;34m\u001b[0m\u001b[0m\n",
            "\u001b[0;31mKeyboardInterrupt\u001b[0m: Interrupted by user"
          ]
        }
      ]
    },
    {
      "cell_type": "code",
      "source": [
        "#4 domination of a no....\n",
        "amount = int(input())\n",
        "denominations = [2000, 500, 200, 100, 50, 10, 5, 2, 1]\n",
        "\n",
        "for denom in denominations:\n",
        "    count = 0\n",
        "    while amount >= denom:\n",
        "        count += 1\n",
        "        amount -= denom\n",
        "    if count != 0:\n",
        "        print(denom, \"-\", count)"
      ],
      "metadata": {
        "id": "ycdDgNQsuY4W"
      },
      "execution_count": null,
      "outputs": []
    },
    {
      "cell_type": "code",
      "source": [
        "#5 functions of list\n",
        "l=input(\"enter the list:elements seprated by ,\").split(',')\n",
        "print(\"Display list:\",l)\n",
        "l.sort()\n",
        "print(\"sort the list:\",l)\n",
        "l.append(\"new\")\n",
        "print(\"add element to the list:\",l)\n",
        "l.remove(\"new\")\n",
        "print(\"delete an element from the list\",l)\n",
        "print(\"length of list\",len(l))\n",
        "l.clear()\n",
        "print(\"clear the list:\",l)"
      ],
      "metadata": {
        "id": "cu520LhEupFB"
      },
      "execution_count": null,
      "outputs": []
    },
    {
      "cell_type": "code",
      "source": [
        "#6 character is alphabet digit....\n",
        "ch=(input())\n",
        "if(ch.isalpha()):\n",
        "    print(\"It is an Alphabet\")\n",
        "elif(ch.isdigit()):\n",
        "    print(\"It is a Digit\")\n",
        "else:\n",
        "    print(\"It is a Special Character\")"
      ],
      "metadata": {
        "id": "21NF0G-Husmt"
      },
      "execution_count": null,
      "outputs": []
    },
    {
      "cell_type": "code",
      "source": [
        "#7 create dictinary...\n",
        "keys = [10, 20, 30]\n",
        "values = ['Ten', 'Twenty', 'Thirty']\n",
        "dictionary = dict(zip(keys, values))\n",
        "print(dictionary)"
      ],
      "metadata": {
        "id": "LKV9PtVLu1Vh"
      },
      "execution_count": null,
      "outputs": []
    },
    {
      "cell_type": "code",
      "source": [
        "#9 random no. generator...\n",
        "import random\n",
        "r = random.randint(1,6)\n",
        "print(r)\n"
      ],
      "metadata": {
        "id": "q-3lRcQ8vJjO"
      },
      "execution_count": null,
      "outputs": []
    },
    {
      "cell_type": "code",
      "source": [
        "#10 calculate electricity bill\n",
        "def Functionbill(units):\n",
        "    surcharge = 0\n",
        "    if units <= 50:\n",
        "        amt = units * 2.60\n",
        "        surcharge = 25\n",
        "    elif units <= 100:\n",
        "        amt = 130 + ((units - 50) * 3.25)\n",
        "        surcharge = 35\n",
        "    elif units <= 200:\n",
        "        amt = 130 + 162.50 + ((units - 100) * 5.25)\n",
        "        surcharge = 45\n",
        "    else:\n",
        "        amt = 130 + 162.50 + 526 + ((units - 200) * 8.45)\n",
        "        surcharge = 75\n",
        "\n",
        "    final_bill = amt + surcharge\n",
        "    return final_bill\n",
        "\n",
        "units_consumed = int(input(\"Enter the units consumed: \"))\n",
        "bill_amount = Functionbill(units_consumed)\n",
        "print(bill_amount)"
      ],
      "metadata": {
        "colab": {
          "base_uri": "https://localhost:8080/"
        },
        "id": "U_SOUoY_vZ_p",
        "outputId": "6ad491c9-5de6-431c-b038-e04c0e1ab28a"
      },
      "execution_count": 14,
      "outputs": [
        {
          "output_type": "stream",
          "name": "stdout",
          "text": [
            "Enter the units consumed: 55\n",
            "181.25\n"
          ]
        }
      ]
    },
    {
      "cell_type": "code",
      "source": [
        "#11 strong password\n",
        "def check(password):\n",
        "    if len(password) < 8:\n",
        "        return False\n",
        "    if not any(char.isupper() for char in password):\n",
        "        return False\n",
        "    if '_' not in password:\n",
        "        return False\n",
        "    if not any(char.isdigit() for char in password):\n",
        "        return False\n",
        "    return True\n",
        "\n",
        "\n",
        "user_password = input(\"Enter your password: \")\n",
        "\n",
        "if check(user_password):\n",
        "        print(\"Password is strong.\")\n",
        "else:\n",
        "        print(\"Password is not strong.\")\n",
        "\n"
      ],
      "metadata": {
        "colab": {
          "base_uri": "https://localhost:8080/"
        },
        "id": "D7SVSueNvhPu",
        "outputId": "64b4d8f1-8139-4f7a-eeb9-e50be6447dea"
      },
      "execution_count": 15,
      "outputs": [
        {
          "output_type": "stream",
          "name": "stdout",
          "text": [
            "Enter your password: Naman969@\n",
            "Password is not strong.\n"
          ]
        }
      ]
    }
  ]
}