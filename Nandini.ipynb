{
  "nbformat": 4,
  "nbformat_minor": 0,
  "metadata": {
    "colab": {
      "provenance": [],
      "authorship_tag": "ABX9TyOrVW0xX47H5Juw6aSC8n66",
      "include_colab_link": true
    },
    "kernelspec": {
      "name": "python3",
      "display_name": "Python 3"
    },
    "language_info": {
      "name": "python"
    }
  },
  "cells": [
    {
      "cell_type": "markdown",
      "metadata": {
        "id": "view-in-github",
        "colab_type": "text"
      },
      "source": [
        "<a href=\"https://colab.research.google.com/github/Nanzz94/DSDL-22-26/blob/master/Nandini.ipynb\" target=\"_parent\"><img src=\"https://colab.research.google.com/assets/colab-badge.svg\" alt=\"Open In Colab\"/></a>"
      ]
    },
    {
      "cell_type": "code",
      "execution_count": null,
      "metadata": {
        "colab": {
          "base_uri": "https://localhost:8080/"
        },
        "id": "PoA7SYOGLndH",
        "outputId": "fc14a3c2-3a51-4fd6-c95b-c4bdf6cfde54"
      },
      "outputs": [
        {
          "output_type": "stream",
          "name": "stdout",
          "text": [
            "enter a number5\n",
            "it is prime\n"
          ]
        }
      ],
      "source": [
        "#prime or not\n",
        "a=int(input(\"enter a number\"))\n",
        "f=False\n",
        "if a==1:\n",
        "  print(\"it is not prime\")\n",
        "elif a>1:\n",
        "  for i in range(2,a):\n",
        "    if (a%i)==0:\n",
        "\n",
        "      f=True\n",
        "      break\n",
        "  if f:\n",
        "    print(\"it is not prime\")\n",
        "  else:\n",
        "    print(\"it is prime\")\n",
        "\n",
        "\n"
      ]
    },
    {
      "cell_type": "code",
      "source": [
        "#replace vowels\n",
        "def change(string):\n",
        "  vowels=\"aeiouAEIOU\"\n",
        "  for i in vowels:\n",
        "    string=string.replace(i,\"*\")\n",
        "  return string\n",
        "string=\"have a good day\"\n",
        "print(change(string))"
      ],
      "metadata": {
        "colab": {
          "base_uri": "https://localhost:8080/"
        },
        "id": "r_1q1ejeUa16",
        "outputId": "f25b34d1-5308-4cc4-d434-c6d5b7f83a48"
      },
      "execution_count": null,
      "outputs": [
        {
          "output_type": "stream",
          "name": "stdout",
          "text": [
            "h*v* * g**d d*y\n"
          ]
        }
      ]
    },
    {
      "cell_type": "code",
      "source": [
        "#store students details\n",
        "mydict=dict()\n",
        "i=1\n",
        "n=int(input(\"enter no of records\"))\n",
        "while(i<=n):\n",
        "  adm_no=int(input(\"enter adm no\"))\n",
        "  roll_no=int(input(\"enter roll no\"))\n",
        "  name=input(\"enter your name\")\n",
        "  per=float(input(\"enter percentage\"))\n",
        "  lst=[roll_no,name,per]\n",
        "  mydict[adm_no]=lst\n",
        "  i+=1\n",
        "keys=mydict.keys()\n",
        "for i in keys:\n",
        "  res=mydict[i]\n",
        "  for j in res:\n",
        "    print(j,end=\"\\t\")"
      ],
      "metadata": {
        "colab": {
          "base_uri": "https://localhost:8080/"
        },
        "id": "9FIBrM47ph3I",
        "outputId": "7bf9783f-c193-492d-9424-a059fc9e8f97"
      },
      "execution_count": null,
      "outputs": [
        {
          "output_type": "stream",
          "name": "stdout",
          "text": [
            "enter no of records2\n",
            "enter adm no20\n",
            "enter roll no1\n",
            "enter your namerita\n",
            "enter percentage90\n",
            "enter adm no21\n",
            "enter roll no2\n",
            "enter your nameght\n",
            "enter percentage45\n",
            "1\trita\t90.0\t2\tght\t45.0\t"
          ]
        }
      ]
    },
    {
      "cell_type": "code",
      "source": [
        "#to apply mathematical function\n",
        "import math\n",
        "n=int(input(\"enter a no\"))\n",
        "print(math.pow(n,2))\n",
        "print(math.log10(n))\n",
        "\n"
      ],
      "metadata": {
        "colab": {
          "base_uri": "https://localhost:8080/"
        },
        "id": "qygQD7SEhWv4",
        "outputId": "cd588c60-bd9c-46b7-824b-5c7c36ebf054"
      },
      "execution_count": null,
      "outputs": [
        {
          "output_type": "stream",
          "name": "stdout",
          "text": [
            "enter a no2\n",
            "4.0\n",
            "0.3010299956639812\n"
          ]
        }
      ]
    },
    {
      "cell_type": "code",
      "source": [
        "#menu driven program\n",
        "a=int(input(\"enter a no\"))\n",
        "b=int(input(\"enter second no\"))\n",
        "ch=int(input(\"enter your choice\"))\n",
        "if ch==1:\n",
        "  print(a+b)\n",
        "elif ch==2:\n",
        "  print(a-b)\n",
        "elif(ch==3):\n",
        "  print(a*b)\n",
        "elif(ch==4):\n",
        "  print(a/b)\n",
        "else:\n",
        "  print(\"invalid choice\")"
      ],
      "metadata": {
        "colab": {
          "base_uri": "https://localhost:8080/"
        },
        "id": "zmSdW-DAm_t0",
        "outputId": "95192efa-16c6-46ea-ca5c-8c4bc88b86e6"
      },
      "execution_count": null,
      "outputs": [
        {
          "output_type": "stream",
          "name": "stdout",
          "text": [
            "enter a no3\n",
            "enter second no2\n",
            "enter your choice4\n",
            "1.5\n"
          ]
        }
      ]
    },
    {
      "cell_type": "code",
      "source": [
        "#fibbonaci series\n",
        "def fibbo(n):\n",
        "    if n==0:\n",
        "      return 0\n",
        "    if n==1:\n",
        "      return 1\n",
        "    else:\n",
        "      return fibbo(n-1)+fibbo(n-2)\n",
        "n=int(input(\"enter a no\"))\n",
        "for i in range(n):\n",
        "  print(fibbo(i),end=\" \")"
      ],
      "metadata": {
        "colab": {
          "base_uri": "https://localhost:8080/"
        },
        "id": "LuPjTSwv8yhB",
        "outputId": "30e69513-694f-4127-876a-849ee39c4260"
      },
      "execution_count": null,
      "outputs": [
        {
          "output_type": "stream",
          "name": "stdout",
          "text": [
            "enter a no5\n",
            "0 1 1 2 3 "
          ]
        }
      ]
    },
    {
      "cell_type": "code",
      "source": [
        "#ten times even\n",
        "def tentimeseven(values):\n",
        "  s=0\n",
        "  for i in values:\n",
        "    if(i%2)==0:\n",
        "      s=s+(i*10)\n",
        "\n",
        "  return s\n",
        "values=[1,2,3,4,5]\n",
        "print(tentimeseven(values))\n"
      ],
      "metadata": {
        "colab": {
          "base_uri": "https://localhost:8080/"
        },
        "id": "RF6RtVQepYoM",
        "outputId": "fd0fe747-5130-4e80-f017-ae6ebe54b314"
      },
      "execution_count": null,
      "outputs": [
        {
          "output_type": "stream",
          "name": "stdout",
          "text": [
            "60\n"
          ]
        }
      ]
    },
    {
      "cell_type": "code",
      "source": [
        "#ending a\n",
        "def ending(names):\n",
        "  for i in names:\n",
        "    if i[-1]==\"a\":\n",
        "      print(i)\n",
        "names=['rita','james','sunita']\n",
        "ending(names)"
      ],
      "metadata": {
        "colab": {
          "base_uri": "https://localhost:8080/"
        },
        "id": "sVgArrCvqk2_",
        "outputId": "fb71fa13-20d3-489b-e490-4a97e0b8422c"
      },
      "execution_count": null,
      "outputs": [
        {
          "output_type": "stream",
          "name": "stdout",
          "text": [
            "rita\n",
            "sunita\n"
          ]
        }
      ]
    },
    {
      "cell_type": "code",
      "source": [
        "#file handling\n",
        "f=open('/Loremipsumtxt.txt','r')\n",
        "for line in f:\n",
        "  word=line.split()\n",
        "  for w in word:\n",
        "    print(w+'#',end=\"\")\n",
        "\n",
        "f.close()"
      ],
      "metadata": {
        "colab": {
          "base_uri": "https://localhost:8080/"
        },
        "id": "lVYjH4yzrYV2",
        "outputId": "6b67985a-dcbd-4028-9df5-57dbd9382d4f"
      },
      "execution_count": null,
      "outputs": [
        {
          "output_type": "stream",
          "name": "stdout",
          "text": [
            "Lorem#Ipsum#is#simply#dummy#text#of#the#printing#and#typesetting#industry.#Lorem#Ipsum#has#been#the#industry's#standard#dummy#text#ever#since#the#1500s,#when#an#unknown#printer#took#a#galley#of#type#and#scrambled#it#to#make#a#type#specimen#book.#It#has#survived#not#only#five#centuries,#but#also#the#leap#into#electronic#typesetting,#remaining#essentially#unchanged.#It#was#popularised#in#the#1960s#with#the#release#of#Letraset#sheets#containing#Lorem#Ipsum#passages,#and#more#recently#with#desktop#publishing#software#like#Aldus#PageMaker#including#versions#of#Lorem#IpsumIt#is#a#long#established#fact#that#a#reader#will#be#distracted#by#the#readable#content#of#a#page#when#looking#at#its#layout.#The#point#of#using#Lorem#Ipsum#is#that#it#has#a#more-or-less#normal#distribution#of#letters,#as#opposed#to#using#'Content#here,#content#here',#making#it#look#like#readable#English.#Many#desktop#publishing#packages#and#web#page#editors#now#use#Lorem#Ipsum#as#their#default#model#text,#and#a#search#for#'lorem#ipsum'#will#uncover#many#web#sites#still#in#their#infancy.#Various#versions#have#evolved#over#the#years,#sometimes#by#accident,#sometimes#on#purpose#(injected#humour#and#the#like).There#are#many#variations#of#passages#of#Lorem#Ipsum#available,#but#the#majority#have#suffered#alteration#in#some#form,#by#injected#humour,#or#randomised#words#which#don't#look#even#slightly#believable.#If#you#are#going#to#use#a#passage#of#Lorem#Ipsum,#you#need#to#be#sure#there#isn't#anything#embarrassing#hidden#in#the#middle#of#text.#All#the#Lorem#Ipsum#generators#on#the#Internet#"
          ]
        }
      ]
    },
    {
      "cell_type": "code",
      "source": [
        "#count\n",
        "f=open('/Loremipsumtxt.txt',\"r\")\n",
        "data=f.read()\n",
        "v=0\n",
        "c=0\n",
        "l=0\n",
        "u=0\n",
        "for ch in data:\n",
        "  if(ch.islower()):\n",
        "    l+=1\n",
        "  elif(ch.isupper()):\n",
        "    u+=1\n",
        "  if(ch in ['a','e','i','o','u']):\n",
        "    v+=1\n",
        "  else:\n",
        "    c+=1\n",
        "f.close()\n",
        "print(\"Vowels are : \",v)\n",
        "print(\"consonants are : \",c)\n",
        "print(\"Lower case letters are : \",l)\n",
        "print(\"Upper case letters are : \",u)\n"
      ],
      "metadata": {
        "colab": {
          "base_uri": "https://localhost:8080/"
        },
        "id": "0OIYy0wTzg-a",
        "outputId": "d03cc69c-33e7-42ed-f88a-71569e670e85"
      },
      "execution_count": null,
      "outputs": [
        {
          "output_type": "stream",
          "name": "stdout",
          "text": [
            "Vowels are :  470\n",
            "consonants are :  1100\n",
            "Lower case letters are :  1236\n",
            "Upper case letters are :  34\n"
          ]
        }
      ]
    },
    {
      "cell_type": "code",
      "source": [
        "# to the\n",
        "f=open('/Loremipsumtxt.txt','r')\n",
        "the=0\n",
        "to=0\n",
        "for line in f:\n",
        "  word=line.split()\n",
        "  for w in word:\n",
        "    if w==\"the\":\n",
        "      the+=1\n",
        "    if w==\"to\":\n",
        "      to+=1\n",
        "print(\"no of the\",the)\n",
        "print(\"no of to\",to)"
      ],
      "metadata": {
        "id": "9-VqovDM4Tzn"
      },
      "execution_count": null,
      "outputs": []
    },
    {
      "cell_type": "code",
      "source": [
        "#count each word\n",
        "record=dict()\n",
        "f=open('/Loremipsumtxt.txt','r')\n",
        "data=f.read()\n",
        "lst=data.split()\n",
        "for word in lst:\n",
        "  if word in record:\n",
        "    record[word]+=1\n",
        "  else:\n",
        "    record[word]=1\n",
        "for key in list(record.keys()):\n",
        "  print(key,\":\",record[key])"
      ],
      "metadata": {
        "id": "kpHLpP_jKSUC"
      },
      "execution_count": null,
      "outputs": []
    },
    {
      "cell_type": "code",
      "source": [
        "f=open('/Loremipsumtxt.txt','r')\n",
        "f1=open('upper.txt','w')\n",
        "f2=open('lower.txt','w')\n",
        "data=f.read()\n",
        "data=data.split()\n",
        "for i in data:\n",
        "  for ch in i:\n",
        "    if(ch.isupper()):\n",
        "      f1.write(ch)\n",
        "    if(ch.islower()):\n",
        "      f2.write(ch)\n",
        "f.close()\n",
        "f1.close()\n",
        "f2.close()"
      ],
      "metadata": {
        "id": "OMjElF2jMxjq"
      },
      "execution_count": null,
      "outputs": []
    },
    {
      "cell_type": "code",
      "source": [
        "# binary files\n",
        "import pickle\n",
        "f=open('binary.bin','wb')\n",
        "record=dict()\n",
        "n=int(input(\"how many records?\"))\n",
        "i=1\n",
        "while(i<=n):\n",
        "  roll=int(input(\"enter your roll no\"))\n",
        "  name=input(\"enter your roll no\")\n",
        "  record[roll]=name\n",
        "  i+=1\n",
        "pickle.dump(record,f)\n",
        "f.close()"
      ],
      "metadata": {
        "colab": {
          "base_uri": "https://localhost:8080/"
        },
        "id": "5gkdEh2OFhGA",
        "outputId": "2c6c30c6-aebf-4418-ff7c-252273a85961"
      },
      "execution_count": null,
      "outputs": [
        {
          "name": "stdout",
          "output_type": "stream",
          "text": [
            "how many records?1\n",
            "enter your roll no1\n",
            "enter your roll nosunita\n"
          ]
        }
      ]
    },
    {
      "cell_type": "code",
      "source": [
        "# menu driven binary file code\n",
        "import pickle\n",
        "def write():\n",
        "  f=open(\"abc.bin\",\"wb\")\n",
        "  text=\"hello everyone\"\n",
        "  pickle.dump(text,f)\n",
        "  f.seek(0)\n",
        "  f.close()\n",
        "def read():\n",
        "  f=open(\"abc.bin\",\"rb\")\n",
        "  x=pickle.load(f)\n",
        "  print(x)\n",
        "  f.close()\n",
        "def search():\n",
        "  n=input(\"which letter you want to search for\")\n",
        "  f=open(\"abc.bin\",\"rb\")\n",
        "  x=pickle.load(f)\n",
        "  for i in x:\n",
        "    if i==n:\n",
        "      print(\"found\")\n",
        "      break\n",
        "    else:\n",
        "      print(\"not found\")\n",
        "      break\n",
        "  f.close()\n",
        "def delete():\n",
        "  l=[]\n",
        "  f=open(\"abc.bin\",\"rb+\")\n",
        "  n=input(\"which letter you want to delete\")\n",
        "  x=pickle.load(f)\n",
        "  for i in x:\n",
        "    if i==n:\n",
        "      continue\n",
        "    else:\n",
        "      l.append(i)\n",
        "    f.seek(0)\n",
        "    pickle.dump(l,f)\n",
        "  f.close()\n",
        "while True:\n",
        "    print(\"1: To write\")\n",
        "    print(\"2: To Read\")\n",
        "    print(\"3: To search\")\n",
        "    print(\"4: To delete\")\n",
        "    print(\"5: To quit\")\n",
        "    ch=int(input(\"Enter your choice:\"))\n",
        "    if ch==1:\n",
        "        write()\n",
        "    elif ch==2:\n",
        "        read()\n",
        "    elif ch==3:\n",
        "        search()\n",
        "    elif ch==4:\n",
        "        delete()\n",
        "    elif ch==5:\n",
        "        break\n",
        "    else:\n",
        "        print(\"Wrong choice, Enter choice between 1 to 5:\")\n",
        "\n",
        "\n",
        "\n"
      ],
      "metadata": {
        "colab": {
          "base_uri": "https://localhost:8080/"
        },
        "id": "WSpGTsaEVjpc",
        "outputId": "5075acc0-0ca8-4a71-b59f-211a8b2691b9"
      },
      "execution_count": null,
      "outputs": [
        {
          "name": "stdout",
          "output_type": "stream",
          "text": [
            "1: To write\n",
            "2: To Read\n",
            "3: To search\n",
            "4: To delete\n",
            "5: To quit\n",
            "Enter your choice:1\n",
            "1: To write\n",
            "2: To Read\n",
            "3: To search\n",
            "4: To delete\n",
            "5: To quit\n",
            "Enter your choice:2\n",
            "hello everyone\n",
            "1: To write\n",
            "2: To Read\n",
            "3: To search\n",
            "4: To delete\n",
            "5: To quit\n",
            "Enter your choice:5\n"
          ]
        }
      ]
    },
    {
      "cell_type": "code",
      "source": [
        "# csv file\n",
        "import csv\n",
        "fields=['cust_no','cust_name','city']\n",
        "rows=[['1','arjun','berhampur'],\n",
        "      ['2','sita','chanpur'],\n",
        "      ['3','ram','noida']]\n",
        "f=open(\"records.csv\",\"w\")\n",
        "csvwriter=csv.writer(f)\n",
        "csvwriter.writerow(fields)\n",
        "csvwriter.writerows(rows)\n"
      ],
      "metadata": {
        "id": "j7JW4rf7ggf2"
      },
      "execution_count": null,
      "outputs": []
    },
    {
      "cell_type": "code",
      "source": [
        "def convert(seconds):\n",
        "    seconds = seconds % (24 * 3600)\n",
        "    hour = seconds // 3600\n",
        "    seconds %= 3600\n",
        "    minutes = seconds // 60\n",
        "    seconds %= 60\n",
        "\n",
        "    return \"%d:%02d:%02d\" % (hour, minutes, seconds)\n",
        "\n",
        "n=int(input(\"enter a number\"))\n",
        "print(convert(n))"
      ],
      "metadata": {
        "colab": {
          "base_uri": "https://localhost:8080/"
        },
        "id": "325sGbUv0MZb",
        "outputId": "11d70ae8-7695-4759-9b08-bbba3c387814"
      },
      "execution_count": null,
      "outputs": [
        {
          "output_type": "stream",
          "name": "stdout",
          "text": [
            "enter a number12345\n",
            "3:25:45\n"
          ]
        }
      ]
    },
    {
      "cell_type": "code",
      "source": [
        "ch = input(\"Please Enter Any Character : \")\n",
        "\n",
        "if((ch >= 'a' and ch <= 'z') or (ch >= 'A' and ch <= 'Z')):\n",
        "    print(\"Alphabet\")\n",
        "elif(ch >= '0' and ch <= '9'):\n",
        "    print(\"Digit\")\n",
        "else:\n",
        "    print(\"Special Character\")"
      ],
      "metadata": {
        "colab": {
          "base_uri": "https://localhost:8080/"
        },
        "id": "BgtVew2AIlHU",
        "outputId": "17da1130-e17b-4eb3-b81c-f0b6429cf8e8"
      },
      "execution_count": null,
      "outputs": [
        {
          "output_type": "stream",
          "name": "stdout",
          "text": [
            "Please Enter Any Character : v\n",
            "Alphabet\n"
          ]
        }
      ]
    },
    {
      "cell_type": "code",
      "source": [
        "#atulya\n",
        "string=\"Atulya\"\n",
        "print(string[0])\n",
        "print(string[1:3])\n",
        "print(string[3:6])\n",
        "\n",
        "\n"
      ],
      "metadata": {
        "colab": {
          "base_uri": "https://localhost:8080/"
        },
        "id": "90H21Az0bZSW",
        "outputId": "c018822a-d1e9-472e-ec77-d7cd4c416849"
      },
      "execution_count": null,
      "outputs": [
        {
          "output_type": "stream",
          "name": "stdout",
          "text": [
            "A\n",
            "tu\n",
            "lya\n"
          ]
        }
      ]
    },
    {
      "cell_type": "code",
      "source": [
        "\n",
        "print(\"1. Enter a new list\")\n",
        "print(\"2. Append element to the list\")\n",
        "print(\"3. Extend the list\")\n",
        "print(\"4. Insert element at a specific position\")\n",
        "print(\"5. Remove element from the list\")\n",
        "print(\"6. Sort the list\")\n",
        "print(\"7. Print the list\")\n",
        "print(\"8. Exit\")\n",
        "my_list = []\n",
        "while True:\n",
        "\n",
        "    choice = input(\"Enter your choice (1-8): \")\n",
        "\n",
        "    if choice == '1':\n",
        "        my_list = eval(input(\"Enter a list\"))\n",
        "    elif choice == '2':\n",
        "       element = eval(input(\"Enter the element to append: \"))\n",
        "       my_list.append(element)\n",
        "    elif choice == '3':\n",
        "       new_elements = eval(input(\"Enter elements to extend the list (e.g., [4, 5]): \"))\n",
        "       my_list.extend(new_elements)\n",
        "    elif choice == '4':\n",
        "      element = eval(input(\"Enter the element to insert: \"))\n",
        "      position = int(input(\"Enter the position to insert at: \"))\n",
        "      my_list.insert(position, element)\n",
        "    elif choice == '5':\n",
        "      element = eval(input(\"Enter the element to remove: \"))\n",
        "      my_list.remove(element)\n",
        "    elif choice == '6':\n",
        "      my_list.sort()\n",
        "    elif choice == '7':\n",
        "        print(\"Current List:\", my_list)\n",
        "\n",
        "    elif choice == '8':\n",
        "        print(\"Exiting the program\")\n",
        "        break\n",
        "    else:\n",
        "        print(\"Invalid choice. Please enter a number between 1 and 8.\")\n",
        "\n",
        "\n"
      ],
      "metadata": {
        "id": "7oEBG7FedrJ6",
        "colab": {
          "base_uri": "https://localhost:8080/"
        },
        "outputId": "bbe03e8d-039d-4475-b7f0-5bbea8dc9c26"
      },
      "execution_count": 4,
      "outputs": [
        {
          "output_type": "stream",
          "name": "stdout",
          "text": [
            "1. Enter a new list\n",
            "2. Append element to the list\n",
            "3. Extend the list\n",
            "4. Insert element at a specific position\n",
            "5. Remove element from the list\n",
            "6. Sort the list\n",
            "7. Print the list\n",
            "8. Exit\n",
            "Enter your choice (1-8): 1\n",
            "Enter a list[1,2,3]\n",
            "Enter your choice (1-8): 2\n",
            "Enter the element to append: 3\n",
            "Enter your choice (1-8): 7\n",
            "Current List: [1, 2, 3, 3]\n",
            "Enter your choice (1-8): 8\n",
            "Exiting the program\n"
          ]
        }
      ]
    },
    {
      "cell_type": "code",
      "source": [
        "# random number\n",
        "import random\n",
        "print(random.randint(1,6))"
      ],
      "metadata": {
        "colab": {
          "base_uri": "https://localhost:8080/"
        },
        "id": "ySqyna5dl-2K",
        "outputId": "ffa88623-e9ec-4d39-d0da-e89d05f3a467"
      },
      "execution_count": null,
      "outputs": [
        {
          "output_type": "stream",
          "name": "stdout",
          "text": [
            "2\n"
          ]
        }
      ]
    }
  ]
}